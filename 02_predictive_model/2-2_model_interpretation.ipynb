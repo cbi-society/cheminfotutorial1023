{
 "cells": [
  {
   "cell_type": "markdown",
   "id": "77c395c6-ce44-40d9-a1a4-8ddf1b19d354",
   "metadata": {},
   "source": [
    "# 活性予測モデルの解釈\n",
    "**(注)　本セクションはハンズオンの時間を余らせた方のためのコンテンツとして用意したものです。**\n",
    "\n",
    "ここでは[SHAP](https://shap.readthedocs.io/en/latest/)を用いて活性予測モデルの解釈を行います。\n",
    "予測モデルは2-1で利用したものを使います。\n",
    "SHAPは\n",
    "\n",
    "pip install shapでインストールしておいてください"
   ]
  },
  {
   "cell_type": "markdown",
   "id": "147ec5f6",
   "metadata": {},
   "source": [
    "## 予測モデル構築のために利用するライブラリのインポート\n",
    "- 今回はLightGBMの回帰モデルを利用し、サポートベクター回帰モデルとの比較も行います。\n",
    "- ハイパーパラメータの最適化にはOptunaを利用します。"
   ]
  },
  {
   "cell_type": "code",
   "execution_count": null,
   "id": "61561b63",
   "metadata": {},
   "outputs": [],
   "source": [
    "import pandas as pd\n",
    "import numpy as np\n",
    "from rdkit import Chem\n",
    "from useful_rdkit_utils import mol2numpy_fp\n",
    "from sklearn.model_selection import train_test_split\n",
    "from sklearn.model_selection import cross_val_score\n",
    "import optuna\n",
    "# Logging levelを変えておきます\n",
    "optuna.logging.set_verbosity(optuna.logging.ERROR)\n",
    "\n",
    "from lightgbm import LGBMRegressor\n",
    "from rdkit.Chem.Draw import IPythonConsole\n",
    "from rdkit.Chem import Draw\n",
    "import joblib\n",
    "\n",
    "import pathlib\n",
    "import sys\n",
    "import os\n",
    "#　実行するノートブックのパスを取得します\n",
    "notedir = pathlib.Path().resolve()\n",
    "print(notedir)\n",
    "\n",
    "from rdkit import RDLogger\n",
    "RDLogger.DisableLog('rdApp.info')"
   ]
  },
  {
   "cell_type": "markdown",
   "id": "05b918a4-942f-4270-b82d-ac58cb3f9c27",
   "metadata": {},
   "source": [
    "### 後の描画用にユーティリティ関数を定義しておきます"
   ]
  },
  {
   "cell_type": "code",
   "execution_count": null,
   "id": "0bbeb8f8-a8d3-4829-ab92-573ed280c6e2",
   "metadata": {},
   "outputs": [],
   "source": [
    "from rdkit.Chem.Draw import rdMolDraw2D\n",
    "from rdkit.Chem.Draw import rdDepictor\n",
    "\n",
    "def mol2svg(mol):\n",
    "    rdDepictor.Compute2DCoords(mol)\n",
    "    d2d = rdMolDraw2D.MolDraw2DSVG(200, 100)\n",
    "    d2d.DrawMolecule(mol)\n",
    "    d2d.FinishDrawing()\n",
    "    return d2d.GetDrawingText()"
   ]
  },
  {
   "cell_type": "markdown",
   "id": "974e043f-cde0-4dea-a00c-0ea382b92fb7",
   "metadata": {},
   "source": [
    "## DPP４データの読み込み\n",
    "\n",
    "予測モデルの構築に使うデータを読み込みます。"
   ]
  },
  {
   "cell_type": "code",
   "execution_count": null,
   "id": "d0f840ec",
   "metadata": {},
   "outputs": [],
   "source": [
    "df = pd.read_table('./dpp4_valid.tsv', sep='\\t')\n",
    "df.head(5)"
   ]
  },
  {
   "cell_type": "code",
   "execution_count": null,
   "id": "b4b144de",
   "metadata": {},
   "outputs": [],
   "source": [
    "# データの大きさの確認\n",
    "print(df.shape)"
   ]
  },
  {
   "cell_type": "markdown",
   "id": "8715338c-06d8-47c5-92ba-ad7e51dbf65e",
   "metadata": {},
   "source": [
    "### 塩の取り扱い\n",
    "データセットに塩を含む分子が含まれているのでモデル構築前に正規化が必要です。01のチュートリアルのコードを利用します。\n",
    "\n",
    "**ここで復習をしましょう**"
   ]
  },
  {
   "cell_type": "code",
   "execution_count": null,
   "id": "73b8c05d",
   "metadata": {},
   "outputs": [],
   "source": [
    "# 塩を含むデータの確認\n",
    "for smi in df['Smiles']:\n",
    "    if '.' in smi:\n",
    "        print(smi)\n",
    "\n",
    "parent_dir = os.path.abspath(os.path.join(notedir, os.pardir))\n",
    "# cheminfo_util をimportします。\n",
    "sys.path.append(parent_dir)\n",
    "import cheminfo_util"
   ]
  },
  {
   "cell_type": "code",
   "execution_count": null,
   "id": "d62c1d7e",
   "metadata": {},
   "outputs": [],
   "source": [
    "# 分子の正規化と合わせてKiの値をpKiに変換します\n",
    "df['ROMol'] = df['Smiles'].apply(Chem.MolFromSmiles)\n",
    "df['clean_mol'] = df['ROMol'].apply(cheminfo_util.prep_moleclue) # ここで分子の正規化を実行しています\n",
    "df['pKi'] = df['Standard Value'].apply(lambda x: 9-np.log10(x))"
   ]
  },
  {
   "cell_type": "markdown",
   "id": "60c9c8c7-35c0-4c90-a2a9-406b1d16b6bd",
   "metadata": {},
   "source": [
    "確認のために最初の５０化合物を表示させてみます。"
   ]
  },
  {
   "cell_type": "code",
   "execution_count": null,
   "id": "0c7ecf86",
   "metadata": {},
   "outputs": [],
   "source": [
    "Draw.MolsToGridImage(df['clean_mol'][:50], molsPerRow=5)"
   ]
  },
  {
   "cell_type": "markdown",
   "id": "74170cb8",
   "metadata": {},
   "source": [
    "##　フィンガープリントの生成"
   ]
  },
  {
   "cell_type": "code",
   "execution_count": null,
   "id": "0294405c",
   "metadata": {},
   "outputs": [],
   "source": [
    "# 描画用\n",
    "clean_mols = df['clean_mol'].to_list()\n",
    "mols_svgs = [mol2svg(m) for m in clean_mols]\n",
    "X = np.array([mol2numpy_fp(m, 2, 1024) for m in df['clean_mol']])\n",
    "y = np.array([float(v) for v in df['pKi']]).ravel()\n",
    "print(X.shape, y.shape)"
   ]
  },
  {
   "cell_type": "markdown",
   "id": "988ecdcd-d8ee-4e3a-968b-b10a505fa11c",
   "metadata": {},
   "source": [
    "### 訓練セット、テストセットの分割\n",
    "訓練用のデータとテスト用のデータに分割するためにランダムスプリットをおこないます。全データのうち７０%を訓練データに利用し、残りの30%を性能確認のためのテストデータとします。"
   ]
  },
  {
   "cell_type": "code",
   "execution_count": null,
   "id": "858f617c",
   "metadata": {},
   "outputs": [],
   "source": [
    "train_idx, test_idx = train_test_split([i for i in range(X.shape[0])], train_size=0.7, random_state=111)"
   ]
  },
  {
   "cell_type": "code",
   "execution_count": null,
   "id": "89ae9958",
   "metadata": {},
   "outputs": [],
   "source": [
    "train_X = X[train_idx]\n",
    "train_svg = [mols_svgs[i] for i in train_idx]\n",
    "test_X = X[test_idx]\n",
    "test_svg = [mols_svgs[i] for i in test_idx]\n",
    "train_y = y[train_idx]\n",
    "test_y = y[test_idx]\n",
    "\n",
    "print(train_X.shape, test_X.shape, train_y.shape, test_y.shape)"
   ]
  },
  {
   "cell_type": "markdown",
   "id": "52a2ebb9",
   "metadata": {},
   "source": [
    "### ハイパーパラメータチューニングを行う\n",
    "Objective functionの定義\n",
    "- optunaでハイパーパラメータの最適化を行うためにはobjective関数の定義が必要です。\n",
    "- 以下のコードでは[cross_val_score](https://scikit-learn.org/stable/modules/generated/sklearn.model_selection.cross_val_score.html)で得られるr2の平均値を評価用の値に利用しています。\n",
    "- チューニングするハイパーパラメータは、そのサンプリングの仕方によって範囲と、[サンプリングメソッド](https://optuna.readthedocs.io/en/stable/reference/generated/optuna.trial.Trial.html#optuna.trial.Trial)を変更します。\n",
    "  - suggest_int 整数をサンプリング\n",
    "  - suggest_loguniform, 対数一様分布からのサンプリング suggest_float(log=True)が推奨される\n",
    "  - suggest_uniform　一様分布からのサンプリング suggest_float()が推奨される\n",
    "  - suggest_categorical　カテゴリ変数からのサンプリング\n",
    "  - etc."
   ]
  },
  {
   "cell_type": "code",
   "execution_count": null,
   "id": "6ee460f9",
   "metadata": {},
   "outputs": [],
   "source": [
    "def objective(trial, x, t, cv):\n",
    "    # 1. 最適化するパラメータを設定します\n",
    "    # https://lightgbm.readthedocs.io/en/latest/pythonapi/lightgbm.LGBMRegressor.html\n",
    "    n_estimaters = trial.suggest_int('n_estimators', 1, 100) #Boost Treeの数\n",
    "    max_depth = trial.suggest_int('max_depth', 1, 10) #探索木の深さ\n",
    "    num_leaves = trial.suggest_int('num_leaves', 2, 10)\n",
    "    min_child_weight = trial.suggest_float(\"min_child_weight\", 0.1, 10, log=True)\n",
    "    subsample = trial.suggest_float(\"subsample\",0.55, 0.95)    \n",
    "    colsample_bytree = trial.suggest_float(\"subsample\",0.55, 0.95)    \n",
    "\n",
    "    # 2. LightGBMREgressor\n",
    "    estimator = LGBMRegressor(\n",
    "        n_estimators=n_estimaters,\n",
    "        max_depth=max_depth,\n",
    "        num_leaves=num_leaves,\n",
    "        min_child_weight=min_child_weight,\n",
    "        subsample=subsample,\n",
    "        colsample_bytree= colsample_bytree,\n",
    "        random_state=111,\n",
    "        verbose=-1\n",
    "    )\n",
    "\n",
    "    # 3. 学習の実行、検証結果の表示\n",
    "    print('Current_params : ', trial.params)\n",
    "    r2 = cross_val_score(estimator, x, t, cv=cv, scoring=\"r2\").mean()\n",
    "    print(r2)\n",
    "    print(\"#######\")\n",
    "    return r2"
   ]
  },
  {
   "cell_type": "code",
   "execution_count": null,
   "id": "bb71bbab",
   "metadata": {},
   "outputs": [],
   "source": [
    "# r2の最適化なので方向性は最大となるように設定します\n",
    "study = optuna.create_study(direction='maximize')\n",
    "cv = 10"
   ]
  },
  {
   "cell_type": "code",
   "execution_count": null,
   "id": "4301f049",
   "metadata": {},
   "outputs": [],
   "source": [
    "# n_trials 50だと時間が少しかかるかもしれません。実行したら、しばし休憩しましょう。\n",
    "study.optimize(lambda trial: objective(trial, train_X, train_y, cv), n_trials=50)"
   ]
  },
  {
   "cell_type": "markdown",
   "id": "1ddbff4c",
   "metadata": {},
   "source": [
    "### 最適化後のR2値は0．6前後でした。実際にテストデータをプロットして確認してみましょう"
   ]
  },
  {
   "cell_type": "code",
   "execution_count": null,
   "id": "d2dc7079",
   "metadata": {},
   "outputs": [],
   "source": [
    "print(study.best_value)"
   ]
  },
  {
   "cell_type": "markdown",
   "id": "69d2b0a3-ca75-47dc-8e3c-39646a862a42",
   "metadata": {},
   "source": [
    "Optunaの結果得られた最良のハイパーパラメータを用いて予測モデルを構築します。"
   ]
  },
  {
   "cell_type": "code",
   "execution_count": null,
   "id": "9acefaf4",
   "metadata": {},
   "outputs": [],
   "source": [
    "best_lgbm = LGBMRegressor(**study.best_params)\n",
    "best_lgbm.fit(train_X, train_y)"
   ]
  },
  {
   "cell_type": "code",
   "execution_count": null,
   "id": "8dc17847",
   "metadata": {},
   "outputs": [],
   "source": [
    "pred_y = best_lgbm.predict(test_X)\n",
    "pred_train_y = best_lgbm.predict(train_X)"
   ]
  },
  {
   "cell_type": "markdown",
   "id": "82861854-4f32-4f87-9501-605e29e061f4",
   "metadata": {},
   "source": [
    "## モデルの性能の視覚化\n",
    "予測モデルの性能を確認するため、「訓練データの予測結果」「テストセットの予測結果」を実測値に比べてどのくらいズレているかをプロットします。"
   ]
  },
  {
   "cell_type": "code",
   "execution_count": null,
   "id": "53243e24",
   "metadata": {},
   "outputs": [],
   "source": [
    "import matplotlib.pyplot as plt\n",
    "plt.clf()\n",
    "plt.title('LightGBM model for DPP4 activity prediction')\n",
    "plt.style.use('ggplot')\n",
    "plt.scatter(pred_train_y, train_y, alpha=0.8, c='pink')\n",
    "plt.scatter(pred_y, test_y, alpha=0.4, c='blue')\n",
    "plt.plot(np.linspace(4,9.5), np.linspace(4,9.5))\n",
    "plt.xlabel('predicted pKi')\n",
    "plt.ylabel('acctual pKi')\n",
    "plt.show()"
   ]
  },
  {
   "cell_type": "markdown",
   "id": "d10f9853-dec2-47c2-818a-b993b762c4b7",
   "metadata": {},
   "source": [
    "# モデルの解釈\n",
    "ここからSHAPを利用してモデルを解釈します。"
   ]
  },
  {
   "cell_type": "code",
   "execution_count": null,
   "id": "38d3056a-a234-4d9c-bf0a-8a6b56178933",
   "metadata": {},
   "outputs": [],
   "source": [
    "import shap\n",
    "from rdkit.Chem import AllChem\n",
    "\n",
    "explainer = shap.TreeExplainer(model=best_lgbm, \n",
    "                                   feature_perturbation='interventional', \n",
    "                                   model_output='raw')\n",
    "shap_values = explainer(X)"
   ]
  },
  {
   "cell_type": "markdown",
   "id": "3d0ebe6a-ca12-4522-a889-6fd43db4c20e",
   "metadata": {},
   "source": [
    "どの特徴（今回はFingerprintなのでX番目の部分構造フラグ）が予測に寄与しているのかをバープロットでみてみます"
   ]
  },
  {
   "cell_type": "code",
   "execution_count": null,
   "id": "b1e05e2a-be4e-4955-9108-427b1d754862",
   "metadata": {},
   "outputs": [],
   "source": [
    "shap.summary_plot(shap_values, X, plot_type=\"bar\")"
   ]
  },
  {
   "cell_type": "markdown",
   "id": "e769609f-e6ba-4f5f-9476-03f6c1c1676e",
   "metadata": {},
   "source": [
    "同様にサマリープロットでも確認します。かなり明確に別れますね。"
   ]
  },
  {
   "cell_type": "code",
   "execution_count": null,
   "id": "99096766-292a-428f-856a-9f0ee8b60d0a",
   "metadata": {},
   "outputs": [],
   "source": [
    "shap.summary_plot(shap_values, X)"
   ]
  },
  {
   "cell_type": "code",
   "execution_count": null,
   "id": "ba69cf0f-00f4-4e78-b40b-cee8e62a62c0",
   "metadata": {},
   "outputs": [],
   "source": [
    "m = df['clean_mol'][2] #適当に選びました。数字を変更すれば構造も変わります。\n",
    "m"
   ]
  },
  {
   "cell_type": "markdown",
   "id": "e1290045-933f-41ba-b598-c674402a252c",
   "metadata": {},
   "source": [
    "Fingerprint生成時にmol2numpy_fpというユーティリティ関数を使いましたが、ビットに対応する部分構造を表示したいので、もう一度計算しなおします。\n",
    "実践的には予めモデルの解釈時に利用することを見越してinfoを計算しておくことが多いと思います。"
   ]
  },
  {
   "cell_type": "code",
   "execution_count": null,
   "id": "ed190f9f-6e4f-4a12-bf61-f7bd16908ced",
   "metadata": {},
   "outputs": [],
   "source": [
    "info = {}\n",
    "#mol2numpy_fp(m, 2, 1024)だったのでradius=2, ビット=1024を指定します。\n",
    "fp = AllChem.GetMorganFingerprintAsBitVect(m, 2, nBits=1024, bitInfo=info)\n",
    "#print(info)"
   ]
  },
  {
   "cell_type": "markdown",
   "id": "6e0bdc39-789c-4f5a-a0d8-52529a776a8c",
   "metadata": {},
   "source": [
    "infoには「33番目のビットはインデックス０の原子の半径0の部分構造,インデックス13の原子の半径0の部分構造,インデックス14の原子の半径0の部分構造」というような情報がはいっています。これを視覚化すると"
   ]
  },
  {
   "cell_type": "code",
   "execution_count": null,
   "id": "ce61856d-d250-4031-927b-782b5458e9f1",
   "metadata": {},
   "outputs": [],
   "source": [
    "morgan_turples = ((m, k, info) for k in list(info.keys()))\n",
    "Draw.DrawMorganBits(morgan_turples, molsPerRow=6, legends=['bit: '+str(x) for x in list(info.keys())])"
   ]
  },
  {
   "cell_type": "markdown",
   "id": "94856a90-0cd3-46da-8257-0661cb1daa26",
   "metadata": {},
   "source": [
    "378番目の特徴に関しては[SBDD的な解釈の点](https://numon.pdbj.org/mom/202?l=ja)からも納得感があります。"
   ]
  },
  {
   "cell_type": "code",
   "execution_count": null,
   "id": "13d6f8d6-cc41-48fc-a523-49e1243ffcdd",
   "metadata": {},
   "outputs": [],
   "source": []
  }
 ],
 "metadata": {
  "kernelspec": {
   "display_name": "Python 3 (ipykernel)",
   "language": "python",
   "name": "python3"
  },
  "language_info": {
   "codemirror_mode": {
    "name": "ipython",
    "version": 3
   },
   "file_extension": ".py",
   "mimetype": "text/x-python",
   "name": "python",
   "nbconvert_exporter": "python",
   "pygments_lexer": "ipython3",
   "version": "3.10.0"
  }
 },
 "nbformat": 4,
 "nbformat_minor": 5
}
