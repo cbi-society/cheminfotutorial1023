{
 "cells": [
  {
   "cell_type": "markdown",
   "id": "77c395c6-ce44-40d9-a1a4-8ddf1b19d354",
   "metadata": {},
   "source": [
    "# 活性予測モデルの構築\n",
    "ここではChMEBLより取得した[DPP4阻害剤のデータ](https://www.ebi.ac.uk/chembl/target_report_card/CHEMBL284/)を利用して活性モデルの作成を行います。\n",
    "\n",
    "## データのダウンロード\n",
    "\n",
    "1. [ChEMBLサイト](https://www.ebi.ac.uk/chembl/target_report_card/CHEMBL284/)の中央部の左側のパイチャートのKi(685カウント)をクリックします。\n",
    "![chembl dpp4](images/chembl_dpp4_1.png)\n",
    "\n",
    "2. 左のフィルターセクションからBAO labelを選んでsingle proteinのみに絞り込みます。\n",
    "![chembl dpp4](images/chembl_dpp4_3.png)\n",
    "\n",
    "3. 続いて、すべての化合物を選択し、TSVでエクスポートします。\n",
    "![chembl dpp4](images/chembl_dpp4_2.png)\n",
    "\n",
    "4. データはzip圧縮されてダウンロードするので解答して、わかりやすい名前(dpp4_chembl.tsv)に変更し、このipynbファイルがあるフォルダに移動してください。"
   ]
  },
  {
   "cell_type": "markdown",
   "id": "c15f201f-2b4d-4ed6-a6cd-095da2eaa436",
   "metadata": {},
   "source": [
    "## TSVデータの前処理\n",
    "\n",
    "ダウンロードしたTSVから予測モデルを構築するのに必要な情報のみを抽出する関数を用意します。具体的には数値(standard_relation)が'='であるもの(>=のような曖昧なKiを除く)のみをモデル構築とテストに利用します。また巨大な分子が含まれているので、分子量が6００以上のものは排除しました。\n",
    "\n",
    "関数としては単純で、タブ区切りのデータをsplitしていきstandard_relationをチェックして上の基準に合致するもののみを出力するようになっています。"
   ]
  },
  {
   "cell_type": "code",
   "execution_count": null,
   "id": "5293c005-1f08-40c3-81dd-ff4b4071e5ee",
   "metadata": {},
   "outputs": [],
   "source": [
    "def tsv2valid_tsv(tsvfile, valid_tsvfile):\n",
    "    with open(tsvfile) as rf:\n",
    "        with open(valid_tsvfile, \"w\") as wf:\n",
    "            header = rf.readline()\n",
    "            hs = header.split(\"\\t\")\n",
    "            wf.write(\"{}\\t{}\\t{}\\t{}\\n\".format(hs[0][1:-1], hs[6][1:-1], hs[7][1:-1], hs[10][1:-1]))\n",
    "            for l in rf:\n",
    "                ls = l.split(\"\\t\")\n",
    "                if ls[9] == \"\\\"'='\\\"\" and float(ls[3][1:-1]) < 600:\n",
    "                    wf.write(\"{}\\t{}\\t{}\\t{}\\n\".format(ls[0][1:-1], ls[6][1:-1], ls[7][1:-1], ls[10][1:-1]))"
   ]
  },
  {
   "cell_type": "code",
   "execution_count": null,
   "id": "dd080ae1-7143-471c-8cfb-63f5f351f7a8",
   "metadata": {},
   "outputs": [],
   "source": [
    "tsv2valid_tsv(\"datasets/dpp4_chembl.tsv\", \"dpp4_valid.tsv\")"
   ]
  },
  {
   "cell_type": "markdown",
   "id": "147ec5f6",
   "metadata": {},
   "source": [
    "## 予測モデル構築のために利用するライブラリのインポート\n",
    "- 今回はLightGBMの回帰モデルを利用し、サポートベクター回帰モデルとの比較も行います。\n",
    "- ハイパーパラメータの最適化にはOptunaを利用します。"
   ]
  },
  {
   "cell_type": "code",
   "execution_count": null,
   "id": "61561b63",
   "metadata": {},
   "outputs": [],
   "source": [
    "import pandas as pd\n",
    "import numpy as np\n",
    "from rdkit import Chem\n",
    "from useful_rdkit_utils import mol2numpy_fp\n",
    "from sklearn.model_selection import train_test_split\n",
    "from sklearn.model_selection import cross_val_score\n",
    "import optuna\n",
    "# Logging levelを変えておきます\n",
    "optuna.logging.set_verbosity(optuna.logging.ERROR)\n",
    "\n",
    "from lightgbm import LGBMRegressor\n",
    "from sklearn.ensemble import RandomForestRegressor\n",
    "from sklearn.svm import SVR\n",
    "from rdkit.Chem.Draw import IPythonConsole\n",
    "from rdkit.Chem import Draw\n",
    "import joblib\n",
    "\n",
    "import pathlib\n",
    "import sys\n",
    "import os\n",
    "#　実行するノートブックのパスを取得します\n",
    "notedir = pathlib.Path().resolve()\n",
    "print(notedir)\n",
    "\n",
    "from rdkit import RDLogger\n",
    "RDLogger.DisableLog('rdApp.info')"
   ]
  },
  {
   "cell_type": "markdown",
   "id": "05b918a4-942f-4270-b82d-ac58cb3f9c27",
   "metadata": {},
   "source": [
    "### 後の描画用にユーティリティ関数を定義しておきます"
   ]
  },
  {
   "cell_type": "code",
   "execution_count": null,
   "id": "0bbeb8f8-a8d3-4829-ab92-573ed280c6e2",
   "metadata": {},
   "outputs": [],
   "source": [
    "from rdkit.Chem.Draw import rdMolDraw2D\n",
    "from rdkit.Chem.Draw import rdDepictor\n",
    "\n",
    "def mol2svg(mol):\n",
    "    rdDepictor.Compute2DCoords(mol)\n",
    "    d2d = rdMolDraw2D.MolDraw2DSVG(200, 100)\n",
    "    d2d.DrawMolecule(mol)\n",
    "    d2d.FinishDrawing()\n",
    "    return d2d.GetDrawingText()"
   ]
  },
  {
   "cell_type": "markdown",
   "id": "974e043f-cde0-4dea-a00c-0ea382b92fb7",
   "metadata": {},
   "source": [
    "## DPP４データの読み込み\n",
    "\n",
    "予測モデルの構築に使うデータを読み込みます。"
   ]
  },
  {
   "cell_type": "code",
   "execution_count": null,
   "id": "d0f840ec",
   "metadata": {},
   "outputs": [],
   "source": [
    "df = pd.read_table('./dpp4_valid.tsv', sep='\\t')\n",
    "df.head(5)"
   ]
  },
  {
   "cell_type": "code",
   "execution_count": null,
   "id": "b4b144de",
   "metadata": {},
   "outputs": [],
   "source": [
    "# データの大きさの確認\n",
    "print(df.shape)"
   ]
  },
  {
   "cell_type": "markdown",
   "id": "8715338c-06d8-47c5-92ba-ad7e51dbf65e",
   "metadata": {},
   "source": [
    "### 塩の取り扱い\n",
    "データセットに塩を含む分子が含まれているのでモデル構築前に正規化が必要です。01のチュートリアルのコードを利用します。\n",
    "\n",
    "**ここで復習をしましょう**"
   ]
  },
  {
   "cell_type": "code",
   "execution_count": null,
   "id": "73b8c05d",
   "metadata": {},
   "outputs": [],
   "source": [
    "# 塩を含むデータの確認\n",
    "for smi in df['Smiles']:\n",
    "    if '.' in smi:\n",
    "        print(smi)\n",
    "\n",
    "parent_dir = os.path.abspath(os.path.join(notedir, os.pardir))\n",
    "# cheminfo_util をimportします。\n",
    "sys.path.append(parent_dir)\n",
    "import cheminfo_util"
   ]
  },
  {
   "cell_type": "code",
   "execution_count": null,
   "id": "d62c1d7e",
   "metadata": {},
   "outputs": [],
   "source": [
    "# 分子の正規化と合わせてKiの値をpKiに変換します\n",
    "df['ROMol'] = df['Smiles'].apply(Chem.MolFromSmiles)\n",
    "df['clean_mol'] = df['ROMol'].apply(cheminfo_util.prep_moleclue) # ここで分子の正規化を実行しています\n",
    "df['pKi'] = df['Standard Value'].apply(lambda x: 9-np.log10(x))"
   ]
  },
  {
   "cell_type": "markdown",
   "id": "60c9c8c7-35c0-4c90-a2a9-406b1d16b6bd",
   "metadata": {},
   "source": [
    "確認のために最初の５０化合物を表示させてみます。"
   ]
  },
  {
   "cell_type": "code",
   "execution_count": null,
   "id": "0c7ecf86",
   "metadata": {},
   "outputs": [],
   "source": [
    "Draw.MolsToGridImage(df['clean_mol'][:50], molsPerRow=5)"
   ]
  },
  {
   "cell_type": "markdown",
   "id": "74170cb8",
   "metadata": {},
   "source": [
    "##　フィンガープリントの生成\n",
    "mol2numpy_fpは引数にRadiusとBitsを渡せばNumpyのArrayとしてデータを返しますのでこれを利用して入力となるXを作成しましょう。"
   ]
  },
  {
   "cell_type": "code",
   "execution_count": null,
   "id": "0294405c",
   "metadata": {},
   "outputs": [],
   "source": [
    "# 描画用\n",
    "clean_mols = df['clean_mol'].to_list()\n",
    "mols_svgs = [mol2svg(m) for m in clean_mols]\n",
    "X = np.array([mol2numpy_fp(m, 2, 1024) for m in df['clean_mol']])\n",
    "y = np.array([float(v) for v in df['pKi']]).ravel()\n",
    "print(X.shape, y.shape)"
   ]
  },
  {
   "cell_type": "markdown",
   "id": "988ecdcd-d8ee-4e3a-968b-b10a505fa11c",
   "metadata": {},
   "source": [
    "### 訓練セット、テストセットの分割\n",
    "訓練用のデータとテスト用のデータに分割するためにランダムスプリットをおこないます。全データのうち７０%を訓練データに利用し、残りの30%を性能確認のためのテストデータとします。"
   ]
  },
  {
   "cell_type": "code",
   "execution_count": null,
   "id": "858f617c",
   "metadata": {},
   "outputs": [],
   "source": [
    "train_idx, test_idx = train_test_split([i for i in range(X.shape[0])], train_size=0.7, random_state=111)"
   ]
  },
  {
   "cell_type": "code",
   "execution_count": null,
   "id": "89ae9958",
   "metadata": {},
   "outputs": [],
   "source": [
    "train_X = X[train_idx]\n",
    "train_svg = [mols_svgs[i] for i in train_idx]\n",
    "test_X = X[test_idx]\n",
    "test_svg = [mols_svgs[i] for i in test_idx]\n",
    "train_y = y[train_idx]\n",
    "test_y = y[test_idx]\n",
    "\n",
    "print(train_X.shape, test_X.shape, train_y.shape, test_y.shape)"
   ]
  },
  {
   "cell_type": "markdown",
   "id": "52a2ebb9",
   "metadata": {},
   "source": [
    "### ハイパーパラメータチューニングを行う\n",
    "Objective functionの定義\n",
    "- optunaでハイパーパラメータの最適化を行うためにはobjective関数の定義が必要です。\n",
    "- 以下のコードでは[cross_val_score](https://scikit-learn.org/stable/modules/generated/sklearn.model_selection.cross_val_score.html)で得られるr2の平均値を評価用の値に利用しています。\n",
    "- チューニングするハイパーパラメータは、そのサンプリングの仕方によって範囲と、[サンプリングメソッド](https://optuna.readthedocs.io/en/stable/reference/generated/optuna.trial.Trial.html#optuna.trial.Trial)を変更します。\n",
    "  - suggest_int 整数をサンプリング\n",
    "  - suggest_loguniform, 対数一様分布からのサンプリング suggest_float(log=True)が推奨される\n",
    "  - suggest_uniform　一様分布からのサンプリング suggest_float()が推奨される\n",
    "  - suggest_categorical　カテゴリ変数からのサンプリング\n",
    "  - etc."
   ]
  },
  {
   "cell_type": "code",
   "execution_count": null,
   "id": "6ee460f9",
   "metadata": {},
   "outputs": [],
   "source": [
    "def objective(trial, x, t, cv):\n",
    "    # 1. 最適化するパラメータを設定します\n",
    "    # https://lightgbm.readthedocs.io/en/latest/pythonapi/lightgbm.LGBMRegressor.html\n",
    "    n_estimaters = trial.suggest_int('n_estimators', 1, 100) #Boost Treeの数\n",
    "    max_depth = trial.suggest_int('max_depth', 1, 10) #探索木の深さ\n",
    "    num_leaves = trial.suggest_int('num_leaves', 2, 10)\n",
    "    min_child_weight = trial.suggest_float(\"min_child_weight\", 0.1, 10, log=True)\n",
    "    subsample = trial.suggest_float(\"subsample\",0.55, 0.95)    \n",
    "    colsample_bytree = trial.suggest_float(\"subsample\",0.55, 0.95)    \n",
    "\n",
    "    # 2. LightGBMREgressor\n",
    "    estimator = LGBMRegressor(\n",
    "        n_estimators=n_estimaters,\n",
    "        max_depth=max_depth,\n",
    "        num_leaves=num_leaves,\n",
    "        min_child_weight=min_child_weight,\n",
    "        subsample=subsample,\n",
    "        colsample_bytree= colsample_bytree,\n",
    "        random_state=111,\n",
    "        verbose=-1\n",
    "    )\n",
    "\n",
    "    # 3. 学習の実行、検証結果の表示\n",
    "    print('Current_params : ', trial.params)\n",
    "    r2 = cross_val_score(estimator, x, t, cv=cv, scoring=\"r2\").mean()\n",
    "    print(r2)\n",
    "    print(\"#######\")\n",
    "    return r2"
   ]
  },
  {
   "cell_type": "code",
   "execution_count": null,
   "id": "bb71bbab",
   "metadata": {},
   "outputs": [],
   "source": [
    "# r2の最適化なので方向性は最大となるように設定します\n",
    "study = optuna.create_study(direction='maximize')\n",
    "cv = 10"
   ]
  },
  {
   "cell_type": "code",
   "execution_count": null,
   "id": "4301f049",
   "metadata": {},
   "outputs": [],
   "source": [
    "# n_trials 50だと時間が少しかかるかもしれません。実行したら、しばし休憩しましょう。\n",
    "study.optimize(lambda trial: objective(trial, train_X, train_y, cv), n_trials=50)"
   ]
  },
  {
   "cell_type": "markdown",
   "id": "1ddbff4c",
   "metadata": {},
   "source": [
    "### 最適化後のR2値は0．6前後でした。実際にテストデータをプロットして確認してみましょう"
   ]
  },
  {
   "cell_type": "code",
   "execution_count": null,
   "id": "d2dc7079",
   "metadata": {},
   "outputs": [],
   "source": [
    "print(study.best_value)"
   ]
  },
  {
   "cell_type": "markdown",
   "id": "69d2b0a3-ca75-47dc-8e3c-39646a862a42",
   "metadata": {},
   "source": [
    "Optunaの結果得られた最良のハイパーパラメータを用いて予測モデルを構築します。"
   ]
  },
  {
   "cell_type": "code",
   "execution_count": null,
   "id": "9acefaf4",
   "metadata": {},
   "outputs": [],
   "source": [
    "best_lgbm = LGBMRegressor(**study.best_params)\n",
    "best_lgbm.fit(train_X, train_y)"
   ]
  },
  {
   "cell_type": "code",
   "execution_count": null,
   "id": "8dc17847",
   "metadata": {},
   "outputs": [],
   "source": [
    "pred_y = best_lgbm.predict(test_X)\n",
    "pred_train_y = best_lgbm.predict(train_X)"
   ]
  },
  {
   "cell_type": "markdown",
   "id": "82861854-4f32-4f87-9501-605e29e061f4",
   "metadata": {},
   "source": [
    "## モデルの性能の視覚化\n",
    "予測モデルの性能を確認するため、「訓練データの予測結果」「テストセットの予測結果」を実測値に比べてどのくらいズレているかをプロットします。"
   ]
  },
  {
   "cell_type": "code",
   "execution_count": null,
   "id": "53243e24",
   "metadata": {},
   "outputs": [],
   "source": [
    "import matplotlib.pyplot as plt\n",
    "plt.clf()\n",
    "plt.title('LightGBM model for DPP4 activity prediction')\n",
    "plt.style.use('ggplot')\n",
    "plt.scatter(pred_train_y, train_y, alpha=0.8, c='pink')\n",
    "plt.scatter(pred_y, test_y, alpha=0.4, c='blue')\n",
    "plt.plot(np.linspace(4,9.5), np.linspace(4,9.5))\n",
    "plt.xlabel('predicted pKi')\n",
    "plt.ylabel('acctual pKi')\n",
    "plt.show()"
   ]
  },
  {
   "cell_type": "markdown",
   "id": "1de53ab9-6da3-426d-918d-a722ac8a9566",
   "metadata": {},
   "source": [
    "## より高度な視覚化\n",
    "上記のプロットではどの点がどの化合物なのか分かりづらいため、各点をマウスオーバーしたときに構造が表示されるようにします。"
   ]
  },
  {
   "cell_type": "code",
   "execution_count": null,
   "id": "41760714-c0fe-4b53-a5ca-2d58013a4f98",
   "metadata": {},
   "outputs": [],
   "source": [
    "from bokeh.io import push_notebook, show, output_notebook, push_notebook\n",
    "from bokeh.plotting import figure\n",
    "from bokeh.plotting import ColumnDataSource\n",
    "from bokeh.transform import factor_cmap\n",
    "output_notebook()"
   ]
  },
  {
   "cell_type": "code",
   "execution_count": null,
   "id": "9ec5d9da-f98b-461c-a488-6eabd8dd2986",
   "metadata": {},
   "outputs": [],
   "source": [
    "line_data =  dict(x=np.linspace(4,9.5), y=np.linspace(4,9.5))\n",
    "train_data = dict(x=pred_train_y,\n",
    "       y=train_y,\n",
    "        ids = train_idx,\n",
    "        img = train_svg,\n",
    "        #label=[str(l) for l in hdbscan.labels_]\n",
    "        )\n",
    "test_data = dict(x=pred_y,\n",
    "       y=test_y,\n",
    "        ids = test_idx,\n",
    "        img = test_svg,\n",
    "        #label=[str(l) for l in hdbscan.labels_]\n",
    "        )\n",
    "\n",
    "TOOLTIPS = \"\"\"\n",
    "<div>\n",
    "index: @ids<br>\n",
    "<div>@img{safe}</div>\n",
    "</div>\n",
    "\"\"\"\n",
    "lince_source = ColumnDataSource(line_data)\n",
    "train_source = ColumnDataSource(train_data)\n",
    "test_source =  ColumnDataSource(test_data)\n",
    "p = figure(tooltips=TOOLTIPS, width=500, height=500,)\n",
    "p.title = 'LightGBM model for DPP4 activity prediction'\n",
    "p.xaxis.axis_label = 'predicted pKi'\n",
    "p.yaxis.axis_label = 'expelimental pKi'\n",
    "p.line(source=line_data)\n",
    "c = p.circle('x', 'y', size=10, source=train_source, \n",
    "         fill_color='skyblue',\n",
    "         alpha=0.8\n",
    "        )\n",
    "p.circle('x', 'y', size=10, source=test_source, \n",
    "         fill_color='pink',\n",
    "         alpha=0.8\n",
    "        )\n",
    "handle=show(p, notebook_handle=True)\n",
    "push_notebook(handle=handle)"
   ]
  },
  {
   "cell_type": "markdown",
   "id": "4d637a57",
   "metadata": {},
   "source": [
    "## サポートベクターマシンでの予測モデル\n",
    "同様にSVRによる予測モデルも構築します。コードの流れは同じなので説明は省略します。"
   ]
  },
  {
   "cell_type": "code",
   "execution_count": null,
   "id": "4c519025",
   "metadata": {},
   "outputs": [],
   "source": [
    "def svm_objective(trial, x, t, cv):\n",
    "    # 1. 最適化するパラメータを設定します\n",
    "    kernel = trial.suggest_categorical('kernel', [#'linear',\n",
    "                                                  #'poly', \n",
    "                                                  'rbf', \n",
    "                                                  #'sigmoid'\n",
    "                                       ]) #Kernelの種類\n",
    "    C = trial.suggest_float('C', 0.01, 1000, log=True) #C\n",
    "    epsilon = trial.suggest_float('epsilon', 0.001, 10, log=True)\n",
    "    \n",
    "\n",
    "    # 2. LightGBMREgressor\n",
    "    estimator = SVR(\n",
    "        kernel=kernel,\n",
    "        C=C,\n",
    "        epsilon=epsilon,\n",
    "    )\n",
    "\n",
    "    # 3. 学習の実行、検証結果の表示\n",
    "    print('Current_params : ', trial.params)\n",
    "    r2 = cross_val_score(estimator, x, t, cv=cv, scoring=\"r2\").mean()\n",
    "    print(r2)\n",
    "    print(\"#######\")\n",
    "    return r2"
   ]
  },
  {
   "cell_type": "code",
   "execution_count": null,
   "id": "547a207b",
   "metadata": {},
   "outputs": [],
   "source": [
    "svm_study = optuna.create_study(direction='maximize')\n",
    "cv = 10\n",
    "svm_study.optimize(lambda trial: svm_objective(trial, train_X, train_y, cv), n_trials=50)"
   ]
  },
  {
   "cell_type": "code",
   "execution_count": null,
   "id": "4cec273a",
   "metadata": {
    "scrolled": true
   },
   "outputs": [],
   "source": [
    "svm_study.best_value"
   ]
  },
  {
   "cell_type": "code",
   "execution_count": null,
   "id": "22af4d7f",
   "metadata": {},
   "outputs": [],
   "source": [
    "best_svm = SVR(**svm_study.best_params)\n",
    "best_svm.fit(train_X, train_y)"
   ]
  },
  {
   "cell_type": "code",
   "execution_count": null,
   "id": "e69d37ad",
   "metadata": {},
   "outputs": [],
   "source": [
    "pred_y = best_svm.predict(test_X)\n",
    "pred_train_y = best_svm.predict(train_X)\n",
    "plt.clf()\n",
    "plt.title('SVM model for DPP4 activity prediction')\n",
    "plt.style.use('ggplot')\n",
    "plt.scatter(pred_train_y, train_y, alpha=0.8, c='pink')\n",
    "plt.scatter(pred_y, test_y, alpha=0.4, c='blue')\n",
    "plt.plot(np.linspace(4,9.5), np.linspace(4,9.5))\n",
    "plt.xlabel('predicted pKi')\n",
    "plt.ylabel('acctual pKi')\n",
    "plt.show()"
   ]
  },
  {
   "cell_type": "code",
   "execution_count": null,
   "id": "037ab1f8-c14d-4d87-8885-5765af88e804",
   "metadata": {},
   "outputs": [],
   "source": [
    "line_data =  dict(x=np.linspace(3.5,10), y=np.linspace(3.5,10))\n",
    "train_data = dict(x=pred_train_y,\n",
    "       y=train_y,\n",
    "        ids = train_idx,\n",
    "        img = train_svg,\n",
    "        #label=[str(l) for l in hdbscan.labels_]\n",
    "        )\n",
    "test_data = dict(x=pred_y,\n",
    "       y=test_y,\n",
    "        ids = test_idx,\n",
    "        img = test_svg,\n",
    "        #label=[str(l) for l in hdbscan.labels_]\n",
    "        )\n",
    "\n",
    "TOOLTIPS = \"\"\"\n",
    "<div>\n",
    "index: @ids<br>\n",
    "<div>@img{safe}</div>\n",
    "</div>\n",
    "\"\"\"\n",
    "lince_source = ColumnDataSource(line_data)\n",
    "train_source = ColumnDataSource(train_data)\n",
    "test_source =  ColumnDataSource(test_data)\n",
    "p = figure(tooltips=TOOLTIPS, width=500, height=500,)\n",
    "p.title = 'SVM model for DPP4 activity prediction'\n",
    "p.xaxis.axis_label = 'predicted pKi'\n",
    "p.yaxis.axis_label = 'expelimental pKi'\n",
    "p.line(source=line_data)\n",
    "c = p.circle('x', 'y', size=10, source=train_source, \n",
    "         fill_color='skyblue',\n",
    "         alpha=0.8\n",
    "        )\n",
    "p.circle('x', 'y', size=10, source=test_source, \n",
    "         fill_color='pink',\n",
    "         alpha=0.8\n",
    "        )\n",
    "handle=show(p, notebook_handle=True)\n",
    "push_notebook(handle=handle)"
   ]
  },
  {
   "cell_type": "markdown",
   "id": "77182abb",
   "metadata": {},
   "source": [
    "### 考察\n",
    "今回の例ではLGBM, SVMあまりパフォーマンスに差がありませんでした。SVMはそのアルゴリズムからデータが増えると遅くなるので、この程度の差であればLGBMでも良いかもしれません。\n",
    "なお、SVMは過学習しているように見えます。"
   ]
  },
  {
   "cell_type": "markdown",
   "id": "3d470fe9",
   "metadata": {},
   "source": [
    "### 予測モデルで自身のアイディア化合物の予測\n",
    "以下の例ではSMILESの入力を受取り、予測値を返す関数を定義しています。"
   ]
  },
  {
   "cell_type": "code",
   "execution_count": null,
   "id": "b4d9b08d",
   "metadata": {},
   "outputs": [],
   "source": [
    "def predict_dpp4act(smiles, model=best_lgbm):\n",
    "    mol = Chem.MolFromSmiles(smiles)\n",
    "    fp = mol2numpy_fp(mol, 2, 1024)\n",
    "    val = model.predict([fp])\n",
    "    return val"
   ]
  },
  {
   "cell_type": "code",
   "execution_count": null,
   "id": "d779dfa6",
   "metadata": {},
   "outputs": [],
   "source": [
    "smi = 'Fc1cc(c(F)cc1F)C[C@@H](N)CC(=O)N3Cc2nnc(n2CC3)C(F)(F)F'\n",
    "mol = Chem.MolFromSmiles(smi)\n",
    "mol"
   ]
  },
  {
   "cell_type": "code",
   "execution_count": null,
   "id": "24d558db",
   "metadata": {},
   "outputs": [],
   "source": [
    "predict_dpp4act(smi)"
   ]
  },
  {
   "cell_type": "code",
   "execution_count": null,
   "id": "f2b93974",
   "metadata": {},
   "outputs": [],
   "source": [
    "smi = 'Fc1cc(c(F)cc1F)C[C@@H](N)CC(=O)N3Cc2nnc(n2CC3)C(C)(C)C'\n",
    "mol = Chem.MolFromSmiles(smi)\n",
    "mol"
   ]
  },
  {
   "cell_type": "code",
   "execution_count": null,
   "id": "fc046a2c",
   "metadata": {},
   "outputs": [],
   "source": [
    "predict_dpp4act(smi)"
   ]
  },
  {
   "cell_type": "markdown",
   "id": "46ef1653-2a4a-47cd-8b99-af7b67c1e652",
   "metadata": {},
   "source": [
    "もし自分で構造を描いて見たい場合には[JSME](https://jsme-editor.github.io/dist/JSME_test.html)が利用できます。"
   ]
  },
  {
   "cell_type": "markdown",
   "id": "db2f514e-f5cf-443f-96dd-53a119b99f25",
   "metadata": {},
   "source": [
    "## 作成したモデルの保存\n",
    "joblibを利用すれば、構築したモデルを簡単に保存、呼び出せます。"
   ]
  },
  {
   "cell_type": "code",
   "execution_count": null,
   "id": "d2a77d6a",
   "metadata": {},
   "outputs": [],
   "source": [
    "joblib.dump(best_lgbm, 'dpp4_lgbm.pkl2', compress=3)"
   ]
  },
  {
   "cell_type": "code",
   "execution_count": null,
   "id": "5d4298a8",
   "metadata": {},
   "outputs": [],
   "source": [
    "model = joblib.load('./dpp4_lgbm.pkl2')"
   ]
  },
  {
   "cell_type": "code",
   "execution_count": null,
   "id": "6217efc8",
   "metadata": {},
   "outputs": [],
   "source": [
    "res = model.predict(train_X)"
   ]
  },
  {
   "cell_type": "code",
   "execution_count": null,
   "id": "8adc8183",
   "metadata": {},
   "outputs": [],
   "source": [
    "res[:10]"
   ]
  },
  {
   "cell_type": "markdown",
   "id": "cbab7d8e-637f-43af-b8a7-e67a6f47cfd5",
   "metadata": {},
   "source": [
    "# モデルの解釈\n",
    "ここからSHAPを利用してモデルを解釈します。"
   ]
  },
  {
   "cell_type": "code",
   "execution_count": null,
   "id": "665f7c27-1f2a-48f0-84ff-b4ccd655cfd5",
   "metadata": {},
   "outputs": [],
   "source": [
    "import shap\n",
    "from rdkit.Chem import AllChem\n",
    "\n",
    "explainer = shap.TreeExplainer(model=best_lgbm, \n",
    "                                   feature_perturbation='interventional', \n",
    "                                   model_output='raw')\n",
    "shap_values = explainer(X)"
   ]
  },
  {
   "cell_type": "markdown",
   "id": "91200954-cbf9-4069-a6e1-0eb44a525bb4",
   "metadata": {},
   "source": [
    "どの特徴（今回はFingerprintなのでX番目の部分構造フラグ）が予測に寄与しているのかをバープロットでみてみます"
   ]
  },
  {
   "cell_type": "code",
   "execution_count": null,
   "id": "faa8799b-c1c4-4bc7-a38f-b2e4df6d5ba2",
   "metadata": {},
   "outputs": [],
   "source": [
    "shap.summary_plot(shap_values, X, plot_type=\"bar\")"
   ]
  },
  {
   "cell_type": "markdown",
   "id": "5dc8a472-414c-4783-b0a9-874bd8698895",
   "metadata": {},
   "source": [
    "同様にサマリープロットでも確認します。かなり明確に別れますね。"
   ]
  },
  {
   "cell_type": "code",
   "execution_count": null,
   "id": "07099bef-2c3f-486b-a836-d2db9af8e424",
   "metadata": {},
   "outputs": [],
   "source": [
    "shap.summary_plot(shap_values, X)"
   ]
  },
  {
   "cell_type": "markdown",
   "id": "fc76a027-3a17-499a-b2e1-ffa576c71071",
   "metadata": {},
   "source": [
    "Fingerprint生成時にmol2numpy_fpというユーティリティ関数を使いましたが、ビットに対応する部分構造を表示したいので、もう一度計算しなおします。\n",
    "実践的には予めモデルの解釈時に利用することを見越してinfoを計算しておくことが多いと思います。"
   ]
  },
  {
   "cell_type": "code",
   "execution_count": null,
   "id": "374532bc-ae16-4918-8500-42e36b4a05c2",
   "metadata": {},
   "outputs": [],
   "source": [
    "info = {}\n",
    "#mol2numpy_fp(m, 2, 1024)だったのでradius=2, ビット=1024を指定します。\n",
    "fp = AllChem.GetMorganFingerprintAsBitVect(m, 2, nBits=1024, bitInfo=info)"
   ]
  },
  {
   "cell_type": "markdown",
   "id": "366f47f1-d359-467b-9e2b-d74bd9e8fdf1",
   "metadata": {},
   "source": [
    "infoには「33番目のビットはインデックス０の原子の半径0の部分構造,インデックス13の原子の半径0の部分構造,インデックス14の原子の半径0の部分構造」というような情報がはいっています。これを視覚化すると"
   ]
  },
  {
   "cell_type": "code",
   "execution_count": null,
   "id": "b73e14bb-2b2f-45e0-bcdc-3f47ff08f8b0",
   "metadata": {},
   "outputs": [],
   "source": [
    "morgan_turples = ((m, k, info) for k in list(info.keys()))\n",
    "Draw.DrawMorganBits(morgan_turples, molsPerRow=6, legends=['bit: '+ str(x) for x in list(info.keys())])"
   ]
  },
  {
   "cell_type": "markdown",
   "id": "8982dfa1-5487-4d82-8f42-62e959eb5557",
   "metadata": {},
   "source": [
    "378番目の特徴に関しては[SBDD的な解釈の点](https://numon.pdbj.org/mom/202?l=ja)からも納得感があります。"
   ]
  },
  {
   "cell_type": "markdown",
   "id": "ac133ad7-dfdb-4854-9845-e5a809177542",
   "metadata": {},
   "source": [
    "# 演習\n",
    "ChEMBLからデータの取得、予測モデル構築、性能評価をDPP4ではなく別のターゲットで実施してください。\n",
    "例) [JAK](https://www.ebi.ac.uk/chembl/target_report_card/CHEMBL2835/)\n",
    "\n",
    "思いつかない場合にはスタッフに聞いてみてください。"
   ]
  },
  {
   "cell_type": "markdown",
   "id": "9df5a636-9ae5-4863-816c-e18165275c57",
   "metadata": {},
   "source": [
    "# 補足"
   ]
  },
  {
   "cell_type": "markdown",
   "id": "083d5e4a-4353-4900-9193-e412fe912d64",
   "metadata": {},
   "source": [
    "## RDBを利用したデータの取得\n",
    "もし、自分のラップトップやサーバーにChEMBLのデータを入れてある場合、SQLでデータを取得することができます。セキュリティの面からもこちらの方が望ましいです。postgreSQLを利用する場合のコードを載せておきます。"
   ]
  },
  {
   "cell_type": "markdown",
   "id": "4b4ff63e",
   "metadata": {},
   "source": [
    "## 実行したSQLコード\n",
    "\n",
    "```sql\n",
    "SELECT m.chembl_id AS compound_chembl_id,   \n",
    "s.canonical_smiles,   \n",
    "r.compound_key,   \n",
    "COALESCE(TO_CHAR(d.pubmed_id, 'FM99999999'),d.doi) AS pubmed_id_or_doi,   \n",
    "a.description                   AS assay_description,   act.standard_type,   \n",
    "act.standard_relation,   \n",
    "act.standard_value,   \n",
    "act.standard_units,   \n",
    "act.activity_comment,\n",
    "a.assay_category \n",
    "FROM compound_structures s\n",
    " RIGHT JOIN molecule_dictionary m on s.molregno = m.molregno \n",
    " JOIN compound_records r on m.molregno = r.molregno  \n",
    " JOIN docs d on r.doc_id = d.doc_id \n",
    " JOIN activities act on r.record_id = act.record_id\n",
    " JOIN assays a on act.assay_id = a.assay_id \n",
    " JOIN target_dictionary t on a.tid = t.tid \n",
    "AND t.chembl_id = 'CHEMBL284'\n",
    "AND act.standard_type = 'Ki'\n",
    "AND act.standard_relation = '='\n",
    "AND a.confidence_score > 8\n",
    ";\n",
    "```\n",
    "\n",
    "上記のSQLをgetdata.sqlというファイルで保存して以下のコマンドを実行すればtsvファイルとしてDPP4のデータを取得できます。\n",
    "\n",
    "```\n",
    "psql -d chembl_33 -f getdata.sql -A -F $'\\t' > ddp4_dataset.tsv\n",
    "```"
   ]
  }
 ],
 "metadata": {
  "kernelspec": {
   "display_name": "Python 3 (ipykernel)",
   "language": "python",
   "name": "python3"
  },
  "language_info": {
   "codemirror_mode": {
    "name": "ipython",
    "version": 3
   },
   "file_extension": ".py",
   "mimetype": "text/x-python",
   "name": "python",
   "nbconvert_exporter": "python",
   "pygments_lexer": "ipython3",
   "version": "3.10.0"
  }
 },
 "nbformat": 4,
 "nbformat_minor": 5
}
