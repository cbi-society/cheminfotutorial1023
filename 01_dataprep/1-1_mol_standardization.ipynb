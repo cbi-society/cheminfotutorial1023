{
 "cells": [
  {
   "cell_type": "markdown",
   "id": "3741a762",
   "metadata": {},
   "source": [
    "# 1.1 分子の正規化\n",
    "外部から取得する化合物情報には塩や金属が含まれていたり、互変異性体が混在していることがあります。従ってバーチャルスクリーニングや予測モデル構築などの作業を実施する前に標準化、正規化をすることが必要になります。\n",
    "\n",
    "本ハンズオンではRDKit, [chembl_structure_pipeline](https://jcheminf.biomedcentral.com/articles/10.1186/s13321-020-00456-1)を利用し、テストデータを用いて標準化、正規化を行います。\n",
    "\n",
    "本ハンズオンでの正規化の流れは以下となります。\n",
    "\n",
    "1. 排除リストに載っている金属イオンを含む化合物を除去\n",
    "1. chembl_structure_pipelineによる標準化とおかしな化合物を除去\n",
    "1. 互変異体の対応\n",
    "\n",
    "注) 実際の業務においては、社内の化合物登録システムで利用する正規化ルールがあるのでそれらに準拠することが必要です。"
   ]
  },
  {
   "cell_type": "markdown",
   "id": "b3cde925-c942-471f-9b34-abcdb96fe5f9",
   "metadata": {},
   "source": [
    "##　化合物データの準備"
   ]
  },
  {
   "cell_type": "code",
   "execution_count": null,
   "id": "53a378ac",
   "metadata": {
    "scrolled": true
   },
   "outputs": [],
   "source": [
    "from rdkit import Chem\n",
    "from rdkit.Chem import Draw\n",
    "\n",
    "from chembl_structure_pipeline import standardizer\n",
    "from chembl_structure_pipeline import get_parent_mol\n",
    "\n",
    "import rdkit\n",
    "import chembl_structure_pipeline\n",
    "import pathlib\n",
    "import sys\n",
    "import os\n",
    "#　実行するノートブックのパスを取得します\n",
    "notedir = pathlib.Path().resolve()\n",
    "print(notedir)\n",
    "#InteractiveRenderer.setEnabled(True)\n",
    "print(rdkit.__version__)\n",
    "print(chembl_structure_pipeline.__version__)"
   ]
  },
  {
   "cell_type": "markdown",
   "id": "0b78ffb7",
   "metadata": {},
   "source": [
    " Pubchem FTPから取得したテストデータを読み込みます。今回はデータの最初の1000件だけを読みたいため、sdfフォーマットの区切り文字('$x4')を探してMolBlock単位で処理しています。\n",
    " \n",
    " 一般的にはSDFの処理にはChem.ForwardSDMolSupplierを利用します（以下サンプルコード）。\n",
    "\n",
    "```python\n",
    "# example\n",
    "import gzip\n",
    "suppl = ForwardSDMolSupplier(gzip.open('in.sdf.gz'))\n",
    "for mol in suppl:\n",
    "  if mol is not None: print mol.GetNumAtoms()\n",
    "```\n"
   ]
  },
  {
   "cell_type": "code",
   "execution_count": null,
   "id": "11f0b1de",
   "metadata": {},
   "outputs": [],
   "source": [
    "#　wget https://ftp.ncbi.nlm.nih.gov/pubchem/Substance/CURRENT-Full/SDF/Substance_000000001_000500000.sdf.gz\n",
    "import gzip\n",
    "with gzip.open(os.path.join(notedir, 'Substance_000000001_000500000.sdf.gz')) as inf:\n",
    "    records = []\n",
    "    record = []\n",
    "    for line in inf:\n",
    "        record.append(line)\n",
    "        if line == b'$$$$\\n':\n",
    "            records.append(b''.join(record).decode())\n",
    "            record = []\n",
    "        if len(records)>=1000:\n",
    "            break"
   ]
  },
  {
   "cell_type": "markdown",
   "id": "7c0cbe36",
   "metadata": {},
   "source": [
    "## 化合物の構造をチェックする\n",
    "\n",
    "structurepipeline.check_molblockはmolblockを入力として構造をチェックし結果（タブル）を返します。該当する項目があった場合はその情報がタプル内に含まれます。 chembl_str\n",
    "\n",
    "以下の項目が評価されます。\n",
    "\n",
    "  - PolymerFileChecker,\n",
    "  - V3000FileChecker,\n",
    "  - NumAtomsMolChecker,\n",
    "  - Has3DMolChecker,\n",
    "  - Has3DFlagSetMolChecker,\n",
    "  - HasIllegalBondTypeMolChecker,\n",
    "  - HasIllegalBondStereoMolChecker,\n",
    "  - HasMultipleStereoBondsMolChecker,\n",
    "  - HasManyOverlappingAtomsMolChecker,\n",
    "  - HasOverlappingAtomsMolChecker,\n",
    "  - ZeroCoordsMolChecker,\n",
    "  - HasCrossedRingBondMolChecker,\n",
    "  - HasStereoBondInRingMolChecker,\n",
    "  - HasStereoBondToStereocenterMolChecker,\n",
    "  - DisallowedRadicalMolChecker,\n",
    "  \n",
    "  最初の30化合物に対して評価してみます。かなりアラートが多く出ることがわかります。"
   ]
  },
  {
   "cell_type": "code",
   "execution_count": null,
   "id": "56abbec6",
   "metadata": {},
   "outputs": [],
   "source": [
    "for i, record in enumerate(records[:30]):\n",
    "    res = chembl_structure_pipeline.check_molblock(record)\n",
    "    if res:\n",
    "        print(\"#\"+str(i), res)"
   ]
  },
  {
   "cell_type": "markdown",
   "id": "39715a4c",
   "metadata": {},
   "source": [
    "## 構造とchembl_structure_pipelineの評価結果の表示\n",
    "chembl_structure_pipelineのでチェッカーの出力結果が出ることがわかりましたが、それぞれの構造を把握するために[ipywidgets](https://ipywidgets.readthedocs.io/en/latest/examples/Using%20Interact.html)を使った構造表示をしています。"
   ]
  },
  {
   "cell_type": "code",
   "execution_count": null,
   "id": "6d53fea6",
   "metadata": {},
   "outputs": [],
   "source": [
    "from ipywidgets import interact,fixed\n",
    "from rdkit.Chem.Draw import rdMolDraw2D\n",
    "from IPython.display import SVG\n",
    "\n",
    "@interact(idx=range(0,len(records)),records=fixed(records))\n",
    "def show_mol(idx,records):\n",
    "    record = records[idx]\n",
    "    print(chembl_structure_pipeline.check_molblock(record))\n",
    "    # sanitize FalseにしているのでSanitizeが失敗するMolBlockも読み込んで描画します。\n",
    "    m = Chem.MolFromMolBlock(record,sanitize=False)\n",
    "    # UpdatePropertyCache()を使いValenceを計算します。これは上段でSanitize=FalseにしておりValenceなどの計算がされないためです。\n",
    "    m.UpdatePropertyCache()\n",
    "    Chem.GetSymmSSSR(m)\n",
    "    d2d = rdMolDraw2D.MolDraw2DSVG(450,400)\n",
    "    # prepareMolsBeforeDrawing=True にすると描画前に分子をきれいにしてくれます（2D配座）。\n",
    "    d2d.drawOptions().prepareMolsBeforeDrawing=False\n",
    "    d2d.DrawMolecule(m)\n",
    "    d2d.FinishDrawing()\n",
    "    return SVG(d2d.GetDrawingText())"
   ]
  },
  {
   "cell_type": "markdown",
   "id": "a9101e36",
   "metadata": {},
   "source": [
    "## 排除リストに載っている金属イオンを含む化合物を除去\n",
    "創薬において、ある特定の金属を含む化合物はライブラリから除外します。chembl_structure_pipelineにはそのような金属のリストが予め定義されています。\n",
    "METAL_LISTは以下のコードから確認できます"
   ]
  },
  {
   "cell_type": "code",
   "execution_count": null,
   "id": "9dbe27a6",
   "metadata": {},
   "outputs": [],
   "source": [
    "from chembl_structure_pipeline import exclude_flag\n",
    "print(exclude_flag.METAL_LIST)"
   ]
  },
  {
   "cell_type": "markdown",
   "id": "0424ca5c-4410-49d9-a64d-e05b3ece69d6",
   "metadata": {},
   "source": [
    "standardize_molblock method 実行時にMETAL_LISTに引っかかった化合物は排除されます"
   ]
  },
  {
   "cell_type": "code",
   "execution_count": null,
   "id": "e89ea707",
   "metadata": {},
   "outputs": [],
   "source": [
    "chembl_structure_pipeline.check_molblock(records[469])\n",
    "standard_record = chembl_structure_pipeline.standardize_molblock(records[469])\n",
    "standard_parent,exclude = chembl_structure_pipeline.get_parent_molblock(standard_record)\n",
    "print(exclude)"
   ]
  },
  {
   "cell_type": "markdown",
   "id": "2eb9271f-db0c-4d81-a3f1-b70f7dbc2795",
   "metadata": {},
   "source": [
    "index 469の分子はExcludedフラグが立ちます。これはChembl_structure_pipeline内に定義された金属原子を含む分子であるからです"
   ]
  },
  {
   "cell_type": "code",
   "execution_count": null,
   "id": "a9a8f382",
   "metadata": {},
   "outputs": [],
   "source": [
    "Chem.MolFromMolBlock(standard_parent)"
   ]
  },
  {
   "cell_type": "markdown",
   "id": "66c36a9a",
   "metadata": {},
   "source": [
    "## chembl_structure_pipeline で正規化をおこなう\n",
    "正規化をおこない、正規化前後の構造を確認してみます。コードの流れを下に示します。\n",
    "\n",
    "- [check_molblock](https://github.com/chembl/ChEMBL_Structure_Pipeline/blob/02fae41903d35e6bb853ee56cf6b799d774bfe92/chembl_structure_pipeline/checker.py#L487)にて処理できない分子を除外します。(12行目)\n",
    "- standardize_molblockにて分子を標準化します。(14行目)\n",
    "- get_parent_molblockにて塩の除去をおこないます(塩を含む分子はStandardize_molblockでは脱塩されません)。\n",
    "  \n",
    "出力は3つのSMILESとなります\n",
    "1. 未処理の分子のSMILES \n",
    "1. standardize_molblock実施後の分子のSMILES\n",
    "1. get_parent_molblock実施後(同位体が削除された)の分子のSMILES\n",
    "\n",
    "以下の２つが構造描画されます。\n",
    "1. standardize_molblock実施後の分子\n",
    "1. get_parent_molblock実施後の分子\n",
    "\n",
    "- check_molblock, excludeフラグに引っかかった分子については描画されません"
   ]
  },
  {
   "cell_type": "code",
   "execution_count": null,
   "id": "dcc513b1",
   "metadata": {},
   "outputs": [],
   "source": [
    "from ipywidgets import interact,fixed\n",
    "from rdkit.Chem.Draw import rdMolDraw2D\n",
    "from IPython.display import SVG\n",
    "from rdkit import RDLogger\n",
    "RDLogger.DisableLog('rdApp.info')\n",
    "@interact(idx=range(0,len(records)),records=fixed(records))\n",
    "def show_standardized_mol(idx,records):\n",
    "    record = records[idx]\n",
    "    checks = chembl_structure_pipeline.check_molblock(record)\n",
    "    if checks and checks[0][0]>6:\n",
    "        print(f\"Failed validation: {checks}\")\n",
    "        return None\n",
    "\n",
    "    standard_record = chembl_structure_pipeline.standardize_molblock(record)\n",
    "    standard_parent,exclude = chembl_structure_pipeline.get_parent_molblock(standard_record)\n",
    "    m1 = Chem.MolFromMolBlock(record,sanitize=False)\n",
    "    m1.UpdatePropertyCache(strict=False)\n",
    "    Chem.GetSymmSSSR(m1)\n",
    "    if exclude:\n",
    "        print(f'Excluded: {Chem.MolToSmiles(m1)}')\n",
    "        return m1\n",
    "    m2 = Chem.MolFromMolBlock(standard_record,sanitize=False)\n",
    "    m2.UpdatePropertyCache(strict=False)\n",
    "    Chem.GetSymmSSSR(m2)\n",
    "    m3 = Chem.MolFromMolBlock(standard_parent,sanitize=False)\n",
    "    m3.UpdatePropertyCache(strict=False)\n",
    "    Chem.GetSymmSSSR(m3)\n",
    "    print(\"unprocessed:\", Chem.MolToSmiles(m1))\n",
    "    print(\"standardize_molblock:\", Chem.MolToSmiles(m2))\n",
    "    print(\"get_parent_molblock:\", Chem.MolToSmiles(m3))\n",
    "    d2d = rdMolDraw2D.MolDraw2DSVG(700,300,350,300)\n",
    "    #d2d.drawOptions().prepareMolsBeforeDrawing=False\n",
    "    d2d.DrawMolecules((m2,m3))\n",
    "    d2d.FinishDrawing()\n",
    "    return SVG(d2d.GetDrawingText())"
   ]
  },
  {
   "cell_type": "markdown",
   "id": "2890493c",
   "metadata": {},
   "source": [
    "## 互変異性体の取り扱い\n",
    "- structurepipelineのstandardize_molでは互変異性体は正規化しないので、RDKitのrdMolStandardizeモジュールのCanonicalTautomerで互変異性体で正規化します\n",
    "\n",
    "（注意）正規化した分子はもとの分子のプロパティを保持します。"
   ]
  },
  {
   "cell_type": "code",
   "execution_count": null,
   "id": "29bc75bc",
   "metadata": {},
   "outputs": [],
   "source": [
    "from rdkit.Chem.MolStandardize import rdMolStandardize\n",
    "#from rdkit.Chem import rdMolHash\n",
    "taut1 = Chem.MolFromSmiles('O=C1NC=CC=C1')\n",
    "#taut1.SetProp(\"molname\",\"pyridone\")\n",
    "taut2 = Chem.MolFromSmiles('OC1=NC=CC=C1')\n",
    "ctaut1 = rdMolStandardize.CanonicalTautomer(taut1)\n",
    "#print(ctaut1.GetPropsAsDict())\n",
    "ctaut2 = rdMolStandardize.CanonicalTautomer(taut2)\n",
    "Draw.MolsToGridImage([taut1, taut2, ctaut1, ctaut2], legends=['taut1', 'taut2', 'canonical taut1', 'canonical taut1'], molsPerRow=4)"
   ]
  },
  {
   "cell_type": "markdown",
   "id": "25a597c7",
   "metadata": {},
   "source": [
    "互変異性体が正規化されました。\n",
    "\n",
    "参考までに互変異性体をenumerateします。"
   ]
  },
  {
   "cell_type": "code",
   "execution_count": null,
   "id": "1ff8838e",
   "metadata": {},
   "outputs": [],
   "source": [
    "enum = rdMolStandardize.TautomerEnumerator()\n",
    "taus = [m for m in enum.Enumerate(taut1)]\n",
    "#print(taus[0].GetPropsAsDict())\n",
    "Draw.MolsToGridImage(taus)"
   ]
  },
  {
   "cell_type": "markdown",
   "id": "f281caea",
   "metadata": {},
   "source": [
    "## カルボン酸塩の取り扱い\n",
    "\n",
    "カルボン酸のNa塩などはよく出てくる構造です。これらの構造はchembl_structure_pipelineではカルボン酸塩のまま処理されるため、脱塩したい場合は以下のような手順を踏む必要があります。アミンの塩場合と合わせて確認してみましょう。\n",
    "\n",
    "rdMolStandardizeを利用して処理します。\n",
    "\n",
    "#### rdMolStandardize.Reionizer and rdMolStandardizer.Uncharger\n",
    "- rdMolStandardize.Reionizer ensure the strongest acid groups ionize first in partially ionized molecules.\n",
    "- rdMolStandardize.Uncharger attempts to neutralize charges by adding and/or removing hydrogens where possible.\n",
    "-  rdMolStandardize.ChargeParent() method is the uncharged version of the fragment parent. It involves taking the fragment parent then applying Neutralize and Reionize."
   ]
  },
  {
   "cell_type": "code",
   "execution_count": null,
   "id": "20fe27b9",
   "metadata": {},
   "outputs": [],
   "source": [
    "from rdkit import Chem\n",
    "from rdkit.Chem.MolStandardize import rdMolStandardize\n",
    "from rdkit.Chem.Draw import InteractiveRenderer"
   ]
  },
  {
   "cell_type": "code",
   "execution_count": null,
   "id": "ceaaab44",
   "metadata": {},
   "outputs": [],
   "source": [
    "uc = rdMolStandardize.Uncharger()"
   ]
  },
  {
   "cell_type": "code",
   "execution_count": null,
   "id": "6d26d6b5-680c-491b-9a8d-076561c71448",
   "metadata": {},
   "outputs": [],
   "source": [
    "InteractiveRenderer.setEnabled(False)\n",
    "mol1 = Chem.MolFromSmiles('c1ccccc1C(=O)[O-].[Na+]')\n",
    "mol2 = Chem.MolFromSmiles('c1ccccc1C(=O)O[Na]')\n",
    "mol3 = Chem.MolFromSmiles('c1ccccc1C(=O)[O-]')\n",
    "mol4 = Chem.MolFromSmiles('c1ccccc1C[N+]([H])([H])[H].[Cl-]')\n",
    "\n",
    "Draw.MolsToGridImage([mol1, mol2, mol3, mol4], molsPerRow=4)"
   ]
  },
  {
   "cell_type": "markdown",
   "id": "30dbf72f-85dc-4e77-8c9b-64c2fee9fae8",
   "metadata": {},
   "source": [
    "Unchargerをつかってもカルボン酸塩はそのままで脱塩はされません。確認してみましょう"
   ]
  },
  {
   "cell_type": "code",
   "execution_count": null,
   "id": "1d380909",
   "metadata": {},
   "outputs": [],
   "source": [
    "uc.uncharge(mol1)"
   ]
  },
  {
   "cell_type": "markdown",
   "id": "cf9a3f8e",
   "metadata": {},
   "source": [
    "これに対応するためには、LargestFragmentChooserを利用しカルボン酸を取得し、中性化すれば解決します。"
   ]
  },
  {
   "cell_type": "code",
   "execution_count": null,
   "id": "2eb842f7",
   "metadata": {
    "scrolled": true
   },
   "outputs": [],
   "source": [
    "lfc = rdMolStandardize.LargestFragmentChooser()\n",
    "mol = lfc.choose(mol1)\n",
    "nmol = uc.uncharge(mol)\n",
    "nmol"
   ]
  },
  {
   "cell_type": "markdown",
   "id": "41a04d9f",
   "metadata": {},
   "source": [
    "## 演習1\n",
    "\n",
    "ここまでのフローをベースに分子の正規化を行う関数を作成してください。\n",
    "\n",
    "ヒント\n",
    "- chembl_structure_pipelineの正規化関数を利用しましょう\n",
    "- 得られた化合物がカルボン酸塩だった場合の処理を追加しましょう\n",
    "- 得られた化合物が互変異性だった場合の正規化処理を追加しましょう\n",
    "- 塩の処理を忘れずに追加しましょう"
   ]
  },
  {
   "cell_type": "code",
   "execution_count": null,
   "id": "bafed7fe",
   "metadata": {},
   "outputs": [],
   "source": [
    "# Taka's example　（当日は空白）\n",
    "def standardizemol(mol):\n",
    "    stdmol = chembl_structure_pipeline.standardize_mol(mol)\n",
    "    chooser = rdMolStandardize.LargestFragmentChooser()\n",
    "    lmol = chooser.choose(stdmol)\n",
    "    pmol, _ = get_parent_mol(lmol)\n",
    "    pmol = rdMolStandardize.CanonicalTautomer(pmol)\n",
    "    return pmol"
   ]
  },
  {
   "cell_type": "markdown",
   "id": "543caacc-792f-4ae4-92d7-6c1b420b2659",
   "metadata": {},
   "source": [
    "## 演習2\n",
    "- 演習１を参考にリポジトリの最上階層にあるcheminfo_util.pyのprep_moleclueを完成させて下さい。\n",
    "- 要件\n",
    "    1. 互変異性体を正規化する。\n",
    "    2. 分子を標準化する。\n",
    "    3. 塩や後の処理に影響を与えそうな金属などを除去する。（*Excludeに該当する金属を含む場合Omittするか、金属を除去するかは任意です。）\n",
    "    4. 処理後の分子はプロパティがなくなるので、もとの分子から情報を取得し処理後に付与して下さい。GetPropsAsDictを利用し全ての情報(_Nameを除く)を取得できます。"
   ]
  },
  {
   "cell_type": "markdown",
   "id": "420a43fe",
   "metadata": {},
   "source": [
    "# 補足"
   ]
  },
  {
   "cell_type": "markdown",
   "id": "080f34b4-a825-4f1f-bbb6-2b96f15cf790",
   "metadata": {},
   "source": [
    "## TIPs RDKitのsanitizationについて\n",
    "- RDKitのsanitizationは以下の順序で行われます。\n",
    "    1. clearComputedProps\n",
    "    2. cleanUp\n",
    "    3. updatePropertyCache\n",
    "    4. symmetrizeSSSR\n",
    "    5. Kekulize\n",
    "    6. assignRadicals\n",
    "    7. setAromaticity\n",
    "    8. setConjugation\n",
    "    9. setHybridization\n",
    "    10. cleanupChirality\n",
    "    11. adjustHs\n",
    "    12. updatePropertyCache\n",
    " - [詳細はオフィシャルドキュメント参照link](https://www.rdkit.org/docs/RDKit_Book.html#molecular-sanitization)"
   ]
  },
  {
   "cell_type": "markdown",
   "id": "bdf34267",
   "metadata": {
    "jp-MarkdownHeadingCollapsed": true
   },
   "source": [
    "## chembl_structure_pipelineの主要な関数\n",
    "### standardize_molblock()\n",
    "- Exclude flagに含まれる金属を含む場合は何もしません。\n",
    "- それ以外の場合に以下の処理を行います。\n",
    " 1. 立体情報をを持たないSP3炭素にunknown stereoからno stereoのフラグ付与\n",
    " 1. 立体情報が不明な二重結合をcrossed bondと指定\n",
    " 1. S Groupの情報を削除\n",
    " 1. 構造のケクレ化\n",
    " 1. 水素の除去\n",
    " 1. 標準化\n",
    "    1. ニトロ基標準化\n",
    "    1. KO, NaOなどをK+O- Na+O-などとする。\n",
    "    1. N=COHという表記のアミド部分の修正\n",
    "    1. スルホキシドを電化が分離した状態表現に変更\n",
    "    1. ジアゾニウム部分の標準化\n",
    "    1. 4級窒素原子が適切なチャージを持ているかチェック\n",
    "    1. 3価のO（[*:1]=[O;X2;v3;+0:2]-[#6:3]）がチャージされていることを確認する。\n",
    "    1. 3価のS（[O:1]=[S;D2;+0:2]-[#6:3]）が帯電していることを確認する。\n",
    "    1. 隣接原子を持たないハロゲン（[F,Cl,Br,I;X0;+0:1]）が帯電していることを確認する。\n",
    "  1. 可能であれば分子を中性化\n",
    "  1. 塩のマッチングを用意にするため酒石酸の立体情報を削除\n",
    "  1. 3重結合とアレン結合を直線状に修正する。\n",
    "\n",
    "### get_parent_molblock()\n",
    "1. すべての同位体を0に設定し、Hsを除去する。以前のH除去ではD原子やT原子をスキップしていたため、この余分なH除去ステップが必要である（詳細は明示的Hsのページを参照）。\n",
    "1. 溶媒(リストで定義)は、このステップですべてのフラグメントが除去されない限り除去される。\n",
    "1. 塩（リストで定義）は、このステップですべてのフラグメントが削除されない限り削除される。\n",
    "1. 重複フラグメント（中和してフラグメントからHsを除去した後に検出された重複）は除去される。重複はcanonical SMILESを使用して検出されるため、互変異性であるフラグメントはこのステップでは削除されない。\n",
    "1. 可能であれば、残った分子を中和する。詳細は中和ルールのページを参照。\n",
    "1. 除外フラグがチェックされる（詳細は除外フラグのページを参照）。フラグがセットされていれば、溶媒ストリッピング後に残った分子を返す。これがどのような違いを生むかを示す2つの具体例として、クエン酸ラニチジンビスマス(CHEMBL2111286) - Biイオンが塩として取り除かれ、ラニチジンが親 - とCuCl2.2H2O - 水(溶媒)と塩化物イオン(塩)が取り除かれるが、除外フラグがCu+2によって設定されるため、親はCuCl2となる。"
   ]
  },
  {
   "cell_type": "markdown",
   "id": "5fb550ad",
   "metadata": {},
   "source": [
    "## chembl_structure_pipeline.standardize_molの挙動\n",
    "- 互変異性体の正規化には対応していないことがわかります。"
   ]
  },
  {
   "cell_type": "code",
   "execution_count": null,
   "id": "2e06ef86",
   "metadata": {},
   "outputs": [],
   "source": [
    "## example\n",
    "taut1 = Chem.MolFromSmiles('O=C1NC=CC=C1')\n",
    "taut2 = Chem.MolFromSmiles('OC1=NC=CC=C1')\n",
    "Draw.MolsToGridImage([taut1, taut2])"
   ]
  },
  {
   "cell_type": "code",
   "execution_count": null,
   "id": "aae502e0",
   "metadata": {},
   "outputs": [],
   "source": [
    "st_taut1 = chembl_structure_pipeline.standardize_mol(taut1)\n",
    "st_taut2 = chembl_structure_pipeline.standardize_mol(taut2)\n",
    "Draw.MolsToGridImage([st_taut1, st_taut2])"
   ]
  },
  {
   "cell_type": "markdown",
   "id": "df55f8f4",
   "metadata": {},
   "source": [
    "## chembl_structure_pipelineでのカルボン酸塩の取り扱い\n",
    "- CanonicalTautomerで互変異性体で正規化\n",
    "- TautomerEnumeratorを利用することで互変異性体をEnumerateします"
   ]
  },
  {
   "cell_type": "code",
   "execution_count": null,
   "id": "b30b7b33",
   "metadata": {},
   "outputs": [],
   "source": [
    "InteractiveRenderer.setEnabled(False)\n",
    "mol1 = Chem.MolFromSmiles('c1ccccc1C(=O)[O-].[Na+]')\n",
    "mol2 = Chem.MolFromSmiles('c1ccccc1C(=O)O[Na]')\n",
    "mol3 = Chem.MolFromSmiles('c1ccccc1C(=O)[O-]')\n",
    "mol4 = Chem.MolFromSmiles('c1ccccc1C[N+]([H])([H])[H].[Cl-]')\n",
    "for i, m in enumerate([mol1, mol2, mol3, mol4]):\n",
    "    m.SetProp('molid', f'mol_{i}')\n",
    "Draw.MolsToGridImage([mol1, mol2, mol3, mol4], molsPerRow=4)"
   ]
  },
  {
   "cell_type": "code",
   "execution_count": null,
   "id": "43d02682",
   "metadata": {},
   "outputs": [],
   "source": [
    "# もとの分子のプロパティは保持しません！！\n",
    "std_mol1 = chembl_structure_pipeline.standardize_mol(mol1)\n",
    "print(std_mol1.GetPropsAsDict())\n",
    "std_mol1"
   ]
  },
  {
   "cell_type": "code",
   "execution_count": null,
   "id": "2b274021",
   "metadata": {},
   "outputs": [],
   "source": [
    "# O[Na]が分離されました\n",
    "# もとの分子のプロパティは保持しません！！\n",
    "std_mol2 = chembl_structure_pipeline.standardize_mol(mol2)\n",
    "print(std_mol2.GetPropsAsDict())\n",
    "std_mol2"
   ]
  },
  {
   "cell_type": "code",
   "execution_count": null,
   "id": "bccd846d",
   "metadata": {},
   "outputs": [],
   "source": [
    "# カルボキシルアニオンが中性になりました\n",
    "chembl_structure_pipeline.standardize_mol(mol3)"
   ]
  },
  {
   "cell_type": "code",
   "execution_count": null,
   "id": "af7cdfb6",
   "metadata": {},
   "outputs": [],
   "source": [
    "pmol, s = chembl_structure_pipeline.get_parent_mol(mol1)\n",
    "pmol"
   ]
  },
  {
   "cell_type": "code",
   "execution_count": null,
   "id": "f5a54813",
   "metadata": {},
   "outputs": [],
   "source": [
    "# アミンは中性化されます。\n",
    "chembl_structure_pipeline.standardize_mol(mol4)"
   ]
  },
  {
   "cell_type": "code",
   "execution_count": null,
   "id": "f64a8584",
   "metadata": {},
   "outputs": [],
   "source": [
    "pmol, _ = get_parent_mol(mol4)\n",
    "pmol"
   ]
  },
  {
   "cell_type": "markdown",
   "id": "701cbae8-f93d-418b-9890-dc99cc8abf55",
   "metadata": {},
   "source": [
    "# chembl_structure_pipeline.standardize_molblockでは塩が除去されない\n",
    "get_parent_molblockなどを利用し、parentmolを取得する必要があります"
   ]
  },
  {
   "cell_type": "code",
   "execution_count": null,
   "id": "a8463bfa",
   "metadata": {},
   "outputs": [],
   "source": [
    "#CHEMBL2111286\n",
    "from rdkit.Chem.Draw import IPythonConsole\n",
    "# ineractiveRendererを利用すると分子の情報をコピーできたり再描画できたりします。通常の描画より動作が重くなります。\n",
    "from rdkit.Chem.Draw import InteractiveRenderer\n",
    "InteractiveRenderer.setEnabled(True)\n",
    "mol = Chem.MolFromSmiles('CNC(=C[N+](=O)[O-])NCCSCC1=CC=C(O1)CN(C)C.C(C(=O)[O-])C(CC(=O)[O-])(C(=O)[O-])O.[Bi+3]')\n",
    "mol"
   ]
  },
  {
   "cell_type": "code",
   "execution_count": null,
   "id": "643402f4",
   "metadata": {},
   "outputs": [],
   "source": [
    "mb = Chem.MolToMolBlock(mol)\n",
    "# standardizeでは脱塩はされません\n",
    "sb = chembl_structure_pipeline.standardize_molblock(mb)\n",
    "parentmb, exclude = chembl_structure_pipeline.get_parent_molblock(sb)\n",
    "Chem.MolFromMolBlock(sb)"
   ]
  },
  {
   "cell_type": "code",
   "execution_count": null,
   "id": "782f032f-a6da-4305-b225-a0be0dd739db",
   "metadata": {
    "scrolled": true
   },
   "outputs": [],
   "source": [
    "mb = Chem.MolToMolBlock(mol)\n",
    "# standardizeでは脱塩はされません\n",
    "sb = chembl_structure_pipeline.standardize_molblock(mb)\n",
    "parentmb, exclude = chembl_structure_pipeline.get_parent_molblock(sb)\n",
    "Chem.MolFromMolBlock(parentmb)"
   ]
  },
  {
   "cell_type": "markdown",
   "id": "52ab6391-e434-460f-b48e-f61bd5e463a8",
   "metadata": {},
   "source": [
    "## 互変異整体の正規化について\n",
    "RDKit UGM2023でも議論がありましたが、RDKitに実装されている互変異整体の正規化は、あくまである一定のルールに従って分子を正規化するという目的のために使うべきです。化学的に正しい互変異整体を出力するかという問いかけに対する回答とは別に考えるべきです。\n",
    "\n",
    "正確な互変異整体の存在比率などを検証したい場合は実験的なアプローチや別の計算的なアプローチを検討されることをおすすめいたします。"
   ]
  },
  {
   "cell_type": "markdown",
   "id": "7d9a3fb1",
   "metadata": {},
   "source": [
    "### Acknowledgements\n",
    "- The most of code came from Greg's great tutorial.\n",
    "- Thank Greg for acceppting share his great work!\n",
    "- https://github.com/greglandrum/RSC_OpenScience_Standardization_202104/blob/main/Standardization%20and%20Validation%20with%20the%20RDKit.ipynb"
   ]
  }
 ],
 "metadata": {
  "kernelspec": {
   "display_name": "Python 3 (ipykernel)",
   "language": "python",
   "name": "python3"
  },
  "language_info": {
   "codemirror_mode": {
    "name": "ipython",
    "version": 3
   },
   "file_extension": ".py",
   "mimetype": "text/x-python",
   "name": "python",
   "nbconvert_exporter": "python",
   "pygments_lexer": "ipython3",
   "version": "3.10.0"
  }
 },
 "nbformat": 4,
 "nbformat_minor": 5
}
